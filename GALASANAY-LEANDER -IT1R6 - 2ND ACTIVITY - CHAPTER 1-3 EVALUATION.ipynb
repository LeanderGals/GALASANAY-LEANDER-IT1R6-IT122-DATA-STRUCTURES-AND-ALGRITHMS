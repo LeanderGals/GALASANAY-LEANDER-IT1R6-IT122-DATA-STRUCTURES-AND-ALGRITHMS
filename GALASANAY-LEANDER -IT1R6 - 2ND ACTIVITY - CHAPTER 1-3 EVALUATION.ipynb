{
 "cells": [
  {
   "cell_type": "code",
   "execution_count": 10,
   "id": "brown-creativity",
   "metadata": {},
   "outputs": [
    {
     "name": "stdout",
     "output_type": "stream",
     "text": [
      "Discuss your learnings on Chapter 1  time-frame 8:00 - 30:35. Minimum of 200 characters\n",
      "Chapter 1 learnings are the following\n",
      "Algorithm is a step by step process. An algorithm should be clear and precise in which it should lead to one meaning. In algorithm we have the algorithm analysis, algorithm complexity, space complexcity and time complexity. \n",
      "While the data structure is about storing and organizing the data that we have. The data structure has two main foundation and that is the interface and implementation.\n",
      "The interface defines what a data structure does, while the implementation defines how a data structure does it. A data structure has 3 characteistics, the correctness, data structure implementation should be correct, the time complexity in which data structure execution time should be small as possible and the space complexity in which memory used should be as little as possible.\n",
      "While watching the video I learned what are data structure and algorithm basic ideas even though it is just a introduction I've got some backgorund on this subject.\n"
     ]
    }
   ],
   "source": [
    "print (\"Discuss your learnings on Chapter 1  time-frame 8:00 - 30:35. Minimum of 200 characters\")\n",
    "print (\"Chapter 1 learnings are the following\")\n",
    "print (\"In this Chapter I learned what is an algorithm and a data structure. Algorithm is a step by step process. An algorithm should be clear and precise in which it should lead to one meaning. In algorithm we have the algorithm analysis, algorithm complexity, space complexcity and time complexity. \")\n",
    "print (\"While the data structure is about storing and organizing the data that we have. The data structure has two main foundation and that is the interface and implementation.\")\n",
    "print (\"The interface defines what a data structure does, while the implementation defines how a data structure does it. A data structure has 3 characteistics, the correctness, data structure implementation should be correct, the time complexity in which data structure execution time should be small as possible and the space complexity in which memory used should be as little as possible.\")\n",
    "print (\"While watching the video I learned what are data structure and algorithm basic ideas even though it is just a introduction I've got some backgorund on this subject is all about.\")\n",
    "\n",
    "\n",
    "\n",
    "\n"
   ]
  },
  {
   "cell_type": "code",
   "execution_count": 11,
   "id": "brief-minute",
   "metadata": {},
   "outputs": [
    {
     "name": "stdout",
     "output_type": "stream",
     "text": [
      "Discuss your learnings on Chapter 1  time-frame 35:00 - end. Minimum of 200 characters\n",
      "Chapter 1 learnings are the following\n",
      "In algorithm we have the algorithm analysis, algorithm complexity, space complexcity and time complexity. Algorithm analysis is about analyzing the efficiency of the algorithm, the algorithm complexity is about decribing the efficiency of the algorithm in terms of the amount of data, while the space complexity is about the amount of memory an algorithm takes in terms of the amount of input to the algorithm, and the time complexity is about the amount of time taken by an algorithm to run as a function of the length of the input.\n",
      "We need to study the data strcuture and algorithm because making an app is so crucial like when you make an app and you have millions of data and you didn't know how to organize it and in this sceneario you could loss a lot of user just because your app is so slow, the app you make is simply a failure, and that's why we need to learn the combination data structure and algorithm.\n"
     ]
    }
   ],
   "source": [
    "print (\"Discuss your learnings on Chapter 1  time-frame 35:00 - end. Minimum of 200 characters\")\n",
    "print (\"Chapter 1 learnings are the following\")\n",
    "print (\"In algorithm we have the algorithm analysis, algorithm complexity, space complexcity and time complexity. Algorithm analysis is about analyzing the efficiency of the algorithm, the algorithm complexity is about decribing the efficiency of the algorithm in terms of the amount of data, while the space complexity is about the amount of memory an algorithm takes in terms of the amount of input to the algorithm, and the time complexity is about the amount of time taken by an algorithm to run as a function of the length of the input.\")\n",
    "print (\"We need to study the data strcuture and algorithm because making an app is so crucial like when you make an app and you have millions of data and you didn't know how to organize it and in this sceneario you could loss a lot of user just because your app is so slow, the app you make is simply a failure, and that's why we need to learn the combination data structure and algorithm.\")\n",
    "\n",
    "\n",
    "\n",
    "\n"
   ]
  },
  {
   "cell_type": "code",
   "execution_count": 8,
   "id": "impressive-bookmark",
   "metadata": {},
   "outputs": [
    {
     "name": "stdout",
     "output_type": "stream",
     "text": [
      "Discuss your learnings on Chapter 2  time-frame 5:00 - 9:00. Minimum of 200 characters\n",
      "Chapter 2 learnings are the following\n",
      "There are two types of data types and that is built-in and derived data type, the term built-in means they are pre-defined or default in a programming language and you can use directly in a program and here are the common built-in data types the integer, float, string, character and boolean.\n",
      "While the derived data type is a data that can be computed from other base data, here are some of some common derived data type the list, array, stack and queue, one of the difference of array and list is that array is a container for same data type and it needs to be declared first while the list is a container for different data type and don't need to be declared.\n",
      "\n",
      "\n",
      "\n"
     ]
    }
   ],
   "source": [
    "print (\"Discuss your learnings on Chapter 2  time-frame 5:00 - 9:00. Minimum of 200 characters\")\n",
    "print (\"Chapter 2 learnings are the following\")\n",
    "print (\"In this chapter I learned what are the data types. There are two types of data types and that is built-in and derived data type, the term built-in means they are pre-defined or default in a programming language and you can use it directly in a program and here are the common built-in data types the integer, float, string, character and boolean.\")\n",
    "print (\"While the derived data type is a data that can be computed from other base data, here are some of some common derived data type the list, array, stack and queue, one of the difference of array and list is that array is a container for same data type and it needs to be declared first while the list is a container for different data type and don't need to be declared.\")\n",
    "print (\"\")\n",
    "print (\"\")\n",
    "print (\"\")\n",
    "\n",
    "\n",
    "\n"
   ]
  },
  {
   "cell_type": "code",
   "execution_count": 13,
   "id": "chubby-stuart",
   "metadata": {},
   "outputs": [
    {
     "name": "stdout",
     "output_type": "stream",
     "text": [
      "Discuss your learnings on Chapter 3  time-frame 3:00 - 18:00. Minimum of 200 characters\n",
      "Chapter 3 learnings are the following\n",
      "In this chapter I learned how to insert, traverse, delete, and update values in an array. In array the values that are stored in an array is called an element and each element has a corresponding index. The element of an array should always be the same type, speaking of the same type we have the typecode in which it is used to define what type of value should the array store.\n",
      "In array we have this basic operations, the traverse, insertion, deletion, search and update. Doing some of this basic operation is easy because some basic operation the root word is already the code.\n"
     ]
    }
   ],
   "source": [
    "print (\"Discuss your learnings on Chapter 3  time-frame 3:00 - 18:00. Minimum of 200 characters\")\n",
    "print (\"Chapter 3 learnings are the following\")\n",
    "print (\"In this chapter I learned how to insert, traverse, delete, and update values in an array. In array the values that are stored in an array is called an element and each element has a corresponding index. The element of an array should always be the same type, speaking of the same type we have the typecode in which it is used to define what type of value should the array store.\")\n",
    "print (\"In array we have this basic operations, the traverse, insertion, deletion, search and update. Doing some of this basic operation is easy because some basic operation the root word is already the code.\")\n",
    "\n",
    "\n",
    "\n",
    "\n",
    "\n"
   ]
  },
  {
   "cell_type": "code",
   "execution_count": 14,
   "id": "spread-validation",
   "metadata": {},
   "outputs": [
    {
     "name": "stdout",
     "output_type": "stream",
     "text": [
      "9\n",
      "1\n",
      "12\n",
      "123\n",
      "1324\n",
      "123456\n",
      "1234567\n",
      "13245678\n",
      "987654\n"
     ]
    }
   ],
   "source": [
    "from array import*\n",
    "leander = array('i',[1,12,123,1324,12345,123456,1234567,13245678,123456789])\n",
    "leander.insert(0,9)\n",
    "leander [-1] = 987654\n",
    "leander.remove(12345)\n",
    "for my in leander:\n",
    "  print(my)\n",
    "\n"
   ]
  },
  {
   "cell_type": "code",
   "execution_count": null,
   "id": "express-charles",
   "metadata": {},
   "outputs": [],
   "source": []
  }
 ],
 "metadata": {
  "kernelspec": {
   "display_name": "Python 3",
   "language": "python",
   "name": "python3"
  },
  "language_info": {
   "codemirror_mode": {
    "name": "ipython",
    "version": 3
   },
   "file_extension": ".py",
   "mimetype": "text/x-python",
   "name": "python",
   "nbconvert_exporter": "python",
   "pygments_lexer": "ipython3",
   "version": "3.9.1"
  }
 },
 "nbformat": 4,
 "nbformat_minor": 5
}
